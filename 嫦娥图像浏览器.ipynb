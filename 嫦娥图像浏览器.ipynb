{
 "cells": [
  {
   "cell_type": "code",
   "execution_count": 29,
   "metadata": {},
   "outputs": [
    {
     "output_type": "stream",
     "name": "stdout",
     "text": [
      "{\n    GET={\n        scheme=https\n        host=moon.bao.ac.cn\n        filename=/proSearch!proSearchList.search\n        query={\n            _dc=1615623500055\n            pageNo=1\n            pageSize=10\n            inputJsonString={\"globalLang\":null,\"DM_DTYPE\":\"SCI\",\"DM_TASKID\":\"CE4\",\"DM_ZHNAME\":\"PCAM\",\"DM_GRADE\":\"2B\",\"DM_CBTIMEStart\":\"2019-01-04 00:00:00\",\"DM_CBTIMEend\":\"2020-02-29 23:59:59\",\"order_by\":\"desc\",\"qsList\":\"\",\"qsStart\":\"\",\"qsEnd\":\"\",\"bianhao\":\"\"}\n            page=2\n            start=10\n            limit=10\n        }\n        remote={\n            Address=159.226.88.59:443\n        }\n    }\n}\n\n"
     ]
    }
   ],
   "source": [
    "import atool\n",
    "\n",
    "GET_copyall_from_firefox = {\"GET\":{\"scheme\":\"https\",\"host\":\"moon.bao.ac.cn\",\"filename\":\"/proSearch!proSearchList.search\",\"query\":{\"_dc\":\"1615623500055\",\"pageNo\":\"1\",\"pageSize\":\"10\",\"inputJsonString\":\"{\\\"globalLang\\\":null,\\\"DM_DTYPE\\\":\\\"SCI\\\",\\\"DM_TASKID\\\":\\\"CE4\\\",\\\"DM_ZHNAME\\\":\\\"PCAM\\\",\\\"DM_GRADE\\\":\\\"2B\\\",\\\"DM_CBTIMEStart\\\":\\\"2019-01-04 00:00:00\\\",\\\"DM_CBTIMEend\\\":\\\"2020-02-29 23:59:59\\\",\\\"order_by\\\":\\\"desc\\\",\\\"qsList\\\":\\\"\\\",\\\"qsStart\\\":\\\"\\\",\\\"qsEnd\\\":\\\"\\\",\\\"bianhao\\\":\\\"\\\"}\",\"page\":\"2\",\"start\":\"10\",\"limit\":\"10\"},\"remote\":{\"Address\":\"159.226.88.59:443\"}}}\n",
    "\n",
    "print(atool.pretty(GET_copyall_from_firefox))"
   ]
  },
  {
   "cell_type": "code",
   "execution_count": 2,
   "metadata": {},
   "outputs": [
    {
     "output_type": "stream",
     "name": "stdout",
     "text": [
      "{'_dc': '1615623500055', 'pageNo': '2', 'pageSize': '10', 'inputJsonString': '{\"globalLang\":null,\"DM_DTYPE\":\"SCI\",\"DM_TASKID\":\"CE4\",\"DM_ZHNAME\":\"PCAM\",\"DM_GRADE\":\"2B\",\"DM_CBTIMEStart\":\"2019-01-04 00:00:00\",\"DM_CBTIMEend\":\"2020-02-29 23:59:59\",\"order_by\":\"desc\",\"qsList\":\"\",\"qsStart\":\"\",\"qsEnd\":\"\",\"bianhao\":\"\"}', 'page': '2', 'start': '10', 'limit': '10'}\n"
     ]
    }
   ],
   "source": [
    "print(GET_copyall_from_firefox['GET']['query'])"
   ]
  },
  {
   "cell_type": "code",
   "execution_count": 30,
   "metadata": {},
   "outputs": [
    {
     "output_type": "stream",
     "name": "stdout",
     "text": [
      "<Response [200]>\n"
     ]
    }
   ],
   "source": [
    "import requests\n",
    "\n",
    "url = GET_copyall_from_firefox['GET']['scheme']+'://'+GET_copyall_from_firefox['GET']['host']+GET_copyall_from_firefox['GET']['filename']\n",
    "param = GET_copyall_from_firefox['GET']['query']\n",
    "\n",
    "r = requests.get(url, param)\n",
    "print(r)"
   ]
  },
  {
   "cell_type": "code",
   "execution_count": 28,
   "metadata": {
    "tags": []
   },
   "outputs": [
    {
     "output_type": "stream",
     "name": "stdout",
     "text": [
      "http://moon.bao.ac.cn/cedownload/CE4ROLL/CE4/PCAML/Q/2B/2020-03/CE4_GRAS_PCAML-Q-055_SCI_N_20200229090531_20200229090531_0122_B.2B\nhttp://moon.bao.ac.cn/cedownload/CE4ROLL/CE4/PCAML/Q/2B/2020-03/CE4_GRAS_PCAML-Q-055_SCI_N_20200229090531_20200229090531_0122_B.2BL\nhttp://moon.bao.ac.cn/cedownload/CE4ROLL/CE4/PCAMR/Q/2B/2020-03/CE4_GRAS_PCAMR-Q-055_SCI_N_20200229090526_20200229090526_0122_B.2B\nhttp://moon.bao.ac.cn/cedownload/CE4ROLL/CE4/PCAMR/Q/2B/2020-03/CE4_GRAS_PCAMR-Q-055_SCI_N_20200229090526_20200229090526_0122_B.2BL\nhttp://moon.bao.ac.cn/cedownload/CE4ROLL/CE4/PCAML/Q/2B/2020-03/CE4_GRAS_PCAML-Q-054_SCI_N_20200229090411_20200229090411_0122_B.2B\nhttp://moon.bao.ac.cn/cedownload/CE4ROLL/CE4/PCAML/Q/2B/2020-03/CE4_GRAS_PCAML-Q-054_SCI_N_20200229090411_20200229090411_0122_B.2BL\nhttp://moon.bao.ac.cn/cedownload/CE4ROLL/CE4/PCAMR/Q/2B/2020-03/CE4_GRAS_PCAMR-Q-054_SCI_N_20200229090406_20200229090406_0122_B.2B\nhttp://moon.bao.ac.cn/cedownload/CE4ROLL/CE4/PCAMR/Q/2B/2020-03/CE4_GRAS_PCAMR-Q-054_SCI_N_20200229090406_20200229090406_0122_B.2BL\nhttp://moon.bao.ac.cn/cedownload/CE4ROLL/CE4/PCAML/Q/2B/2020-03/CE4_GRAS_PCAML-Q-053_SCI_N_20200229090251_20200229090251_0122_B.2B\nhttp://moon.bao.ac.cn/cedownload/CE4ROLL/CE4/PCAML/Q/2B/2020-03/CE4_GRAS_PCAML-Q-053_SCI_N_20200229090251_20200229090251_0122_B.2BL\n"
     ]
    }
   ],
   "source": [
    "#print(atool.pretty(r.json()))\n",
    "for data in r.json()['returndata']:\n",
    "    #print(data['dmStorepath'])\n",
    "    # 真实的下载链接\n",
    "    print(data['dmStorepath'].replace('/PUBDATA/', 'http://moon.bao.ac.cn/cedownload/'))\n",
    "\n",
    "# http://moon.bao.ac.cn/cedownload/"
   ]
  },
  {
   "cell_type": "code",
   "execution_count": 31,
   "metadata": {},
   "outputs": [
    {
     "output_type": "stream",
     "name": "stdout",
     "text": [
      "http://moon.bao.ac.cn/cedownload/CE4ROLL/CE4/PCAML/Q/2B/2020-03/CE4_GRAS_PCAML-Q-055_SCI_N_20200229090531_20200229090531_0122_B.2B\nhttp://moon.bao.ac.cn/cedownload/CE4ROLL/CE4/PCAML/Q/2B/2020-03/CE4_GRAS_PCAML-Q-055_SCI_N_20200229090531_20200229090531_0122_B.2BL\nhttp://moon.bao.ac.cn/cedownload/CE4ROLL/CE4/PCAMR/Q/2B/2020-03/CE4_GRAS_PCAMR-Q-055_SCI_N_20200229090526_20200229090526_0122_B.2B\nhttp://moon.bao.ac.cn/cedownload/CE4ROLL/CE4/PCAMR/Q/2B/2020-03/CE4_GRAS_PCAMR-Q-055_SCI_N_20200229090526_20200229090526_0122_B.2BL\nhttp://moon.bao.ac.cn/cedownload/CE4ROLL/CE4/PCAML/Q/2B/2020-03/CE4_GRAS_PCAML-Q-054_SCI_N_20200229090411_20200229090411_0122_B.2B\nhttp://moon.bao.ac.cn/cedownload/CE4ROLL/CE4/PCAML/Q/2B/2020-03/CE4_GRAS_PCAML-Q-054_SCI_N_20200229090411_20200229090411_0122_B.2BL\nhttp://moon.bao.ac.cn/cedownload/CE4ROLL/CE4/PCAMR/Q/2B/2020-03/CE4_GRAS_PCAMR-Q-054_SCI_N_20200229090406_20200229090406_0122_B.2B\nhttp://moon.bao.ac.cn/cedownload/CE4ROLL/CE4/PCAMR/Q/2B/2020-03/CE4_GRAS_PCAMR-Q-054_SCI_N_20200229090406_20200229090406_0122_B.2BL\nhttp://moon.bao.ac.cn/cedownload/CE4ROLL/CE4/PCAML/Q/2B/2020-03/CE4_GRAS_PCAML-Q-053_SCI_N_20200229090251_20200229090251_0122_B.2B\nhttp://moon.bao.ac.cn/cedownload/CE4ROLL/CE4/PCAML/Q/2B/2020-03/CE4_GRAS_PCAML-Q-053_SCI_N_20200229090251_20200229090251_0122_B.2BL\n"
     ]
    }
   ],
   "source": [
    "#print(atool.pretty(r.json()))\n",
    "for data in r.json()['returndata']:\n",
    "    #print(data['dmStorepath'])\n",
    "    # 真实的下载链接\n",
    "    print(data['dmStorepath'].replace('/PUBDATA/', 'http://moon.bao.ac.cn/cedownload/'))\n",
    "\n",
    "# http://moon.bao.ac.cn/cedownload/"
   ]
  },
  {
   "cell_type": "code",
   "execution_count": 18,
   "metadata": {},
   "outputs": [],
   "source": [
    "import requests\n",
    "import time\n",
    "import atool\n",
    "\n",
    "def get_ChangE_download_link(pageNo, pageSize, task_id='CE4', data_type='SCI', payload='PCAM', data_grade='2B', date_start='2019-01-04 00:00:00', date_end='today'):\n",
    "    url = 'https://' + 'moon.bao.ac.cn' + '/proSearch!proSearchList.search'\n",
    "\n",
    "    # 根据任务设置查询的起始时间\n",
    "    if task_id == 'CE4':\n",
    "        date_start = '2019-01-04 00:00:00'\n",
    "    elif task_id == 'CE3':\n",
    "        date_start = '2009-12-31 00:00:00'\n",
    "    elif task_id == 'CE2':\n",
    "        date_start = '2010-10-01 00:00:00'\n",
    "    elif task_id == 'CE1':\n",
    "        date_start = '2007-10-24 00:00:00'\n",
    "        \n",
    "    if date_end == 'today':\n",
    "        date_end = time.strftime(\"%Y-%m-%d %H:%M:%S\", time.localtime())\n",
    "\n",
    "    inputJsonString = '{\"globalLang\":null,\"DM_DTYPE\":\"%s\",\"DM_TASKID\":\"%s\",\"DM_ZHNAME\":\"%s\",\"DM_GRADE\":\"%s\",\"DM_CBTIMEStart\":\"%s\",\"DM_CBTIMEend\":\"%s\",\"order_by\":\"desc\",\"qsList\":\"\",\"qsStart\":\"\",\"qsEnd\":\"\",\"bianhao\":\"\"}' % (data_type, task_id, payload, data_grade, date_start, date_end)\n",
    "    param = {\n",
    "        '_dc': '1615623500055', \n",
    "        'pageNo': str(pageNo), \n",
    "        'pageSize': str(pageSize), \n",
    "        'inputJsonString': inputJsonString, \n",
    "        'page': str(pageNo), \n",
    "        'start': str((pageNo-1)*pageSize), \n",
    "        'limit': str(pageSize)}\n",
    "\n",
    "    r = requests.get(url, param)\n",
    "    if r.ok:\n",
    "        link = []\n",
    "        for data in r.json()['returndata']:\n",
    "            # 真实的下载链接\n",
    "            link.append(data['dmStorepath'].replace('/PUBDATA/', 'http://moon.bao.ac.cn/cedownload/'))\n",
    "        return link\n",
    "    else:\n",
    "        return None"
   ]
  },
  {
   "cell_type": "code",
   "execution_count": 9,
   "metadata": {},
   "outputs": [
    {
     "output_type": "stream",
     "name": "stdout",
     "text": [
      "[\n    http://moon.bao.ac.cn/cedownload/CE4ROLL/CE4/PCAML/Q/2B/2020-03/CE4_GRAS_PCAML-Q-055_SCI_N_20200229090531_20200229090531_0122_B.2B\n    http://moon.bao.ac.cn/cedownload/CE4ROLL/CE4/PCAML/Q/2B/2020-03/CE4_GRAS_PCAML-Q-055_SCI_N_20200229090531_20200229090531_0122_B.2BL\n    http://moon.bao.ac.cn/cedownload/CE4ROLL/CE4/PCAMR/Q/2B/2020-03/CE4_GRAS_PCAMR-Q-055_SCI_N_20200229090526_20200229090526_0122_B.2B\n    http://moon.bao.ac.cn/cedownload/CE4ROLL/CE4/PCAMR/Q/2B/2020-03/CE4_GRAS_PCAMR-Q-055_SCI_N_20200229090526_20200229090526_0122_B.2BL\n    http://moon.bao.ac.cn/cedownload/CE4ROLL/CE4/PCAML/Q/2B/2020-03/CE4_GRAS_PCAML-Q-054_SCI_N_20200229090411_20200229090411_0122_B.2B\n    http://moon.bao.ac.cn/cedownload/CE4ROLL/CE4/PCAML/Q/2B/2020-03/CE4_GRAS_PCAML-Q-054_SCI_N_20200229090411_20200229090411_0122_B.2BL\n    http://moon.bao.ac.cn/cedownload/CE4ROLL/CE4/PCAMR/Q/2B/2020-03/CE4_GRAS_PCAMR-Q-054_SCI_N_20200229090406_20200229090406_0122_B.2B\n    http://moon.bao.ac.cn/cedownload/CE4ROLL/CE4/PCAMR/Q/2B/2020-03/CE4_GRAS_PCAMR-Q-054_SCI_N_20200229090406_20200229090406_0122_B.2BL\n    http://moon.bao.ac.cn/cedownload/CE4ROLL/CE4/PCAML/Q/2B/2020-03/CE4_GRAS_PCAML-Q-053_SCI_N_20200229090251_20200229090251_0122_B.2B\n    http://moon.bao.ac.cn/cedownload/CE4ROLL/CE4/PCAML/Q/2B/2020-03/CE4_GRAS_PCAML-Q-053_SCI_N_20200229090251_20200229090251_0122_B.2BL\n\n]\n\n"
     ]
    }
   ],
   "source": [
    "links = get_ChangE_download_link(1, 10)\n",
    "if links != None:\n",
    "    print(atool.pretty(links))"
   ]
  },
  {
   "cell_type": "code",
   "execution_count": 24,
   "metadata": {},
   "outputs": [
    {
     "output_type": "stream",
     "name": "stdout",
     "text": [
      "[\n    http://moon.bao.ac.cn/cedownload/CCD/2B/CE1_BMYK_CCD-B_SCI_N_20090225042859_20090225062653_5464_A.2B\n    http://moon.bao.ac.cn/cedownload/CCD/2B/CE1_BMYK_CCD-F_SCI_N_20090225042859_20090225062653_5464_A.2B\n    http://moon.bao.ac.cn/cedownload/CCD/2B/CE1_BMYK_CCD-N_SCI_N_20090225042859_20090225062653_5464_A.2B\n    http://moon.bao.ac.cn/cedownload/CCD/2B/CE1_BMYK_CCD-B_SCI_N_20090114172211_20090114192053_4960_A.2B\n    http://moon.bao.ac.cn/cedownload/CCD/2B/CE1_BMYK_CCD-F_SCI_N_20090114172211_20090114192053_4960_A.2B\n    http://moon.bao.ac.cn/cedownload/CCD/2B/CE1_BMYK_CCD-N_SCI_N_20090114172211_20090114192053_4960_A.2B\n    http://moon.bao.ac.cn/cedownload/LAM/2B/CE1_BMYK_LAM_SCI_P_20090114172211_20090114192053_4960_B.2B\n    http://moon.bao.ac.cn/cedownload/SWIDA/2B/CE1_BMYK_SWIDA_SCI_P_20090114172211_20090114192053_4960_A.2B\n    http://moon.bao.ac.cn/cedownload/SWIDB/2B/CE1_BMYK_SWIDB_SCI_P_20090114172211_20090114192053_4960_A.2B\n    http://moon.bao.ac.cn/cedownload/CCD/2B/CE1_BMYK_CCD-B_SCI_N_20090114152327_20090114172210_4959_A.2B\n\n]\n\n"
     ]
    }
   ],
   "source": [
    "links = get_ChangE_download_link(1, 10, task_id='CE1', payload='')\n",
    "if links != None:\n",
    "    print(atool.pretty(links))"
   ]
  },
  {
   "cell_type": "code",
   "execution_count": null,
   "metadata": {},
   "outputs": [],
   "source": []
  }
 ],
 "metadata": {
  "kernelspec": {
   "display_name": "Python 3",
   "language": "python",
   "name": "python3"
  },
  "language_info": {
   "codemirror_mode": {
    "name": "ipython",
    "version": 3
   },
   "file_extension": ".py",
   "mimetype": "text/x-python",
   "name": "python",
   "nbconvert_exporter": "python",
   "pygments_lexer": "ipython3",
   "version": "3.7.4-final"
  }
 },
 "nbformat": 4,
 "nbformat_minor": 2
}