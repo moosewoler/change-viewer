{
 "metadata": {
  "language_info": {
   "codemirror_mode": {
    "name": "ipython",
    "version": 3
   },
   "file_extension": ".py",
   "mimetype": "text/x-python",
   "name": "python",
   "nbconvert_exporter": "python",
   "pygments_lexer": "ipython3",
   "version": "3.7.10"
  },
  "orig_nbformat": 2,
  "kernelspec": {
   "name": "python3710jvsc74a57bd0b9a14a07ea3adec7aa0a4cc8302331a7d89a629092bbba915a03bd7f696c0657",
   "display_name": "Python 3.7.10 64-bit ('pyqt': conda)"
  }
 },
 "nbformat": 4,
 "nbformat_minor": 2,
 "cells": [
  {
   "cell_type": "code",
   "execution_count": null,
   "metadata": {},
   "outputs": [],
   "source": [
    "import pds4_tools\n",
    "\n",
    "def read_pds(path):\n",
    "    # 读入嫦娥2BL数据\n",
    "    pds_data = pds4_tools.read(path)\n",
    "    return pds_data"
   ]
  },
  {
   "cell_type": "code",
   "execution_count": null,
   "metadata": {},
   "outputs": [],
   "source": [
    "dir = '.'\n",
    "filename = 'CE4_GRAS_PCAML-C-000_SCI_N_20190708043358_20190708043358_0048_B'\n",
    "#filename = 'CE4_GRAS_PCAML-C-001_SCI_N_20190708043517_20190708043517_0048_B'\n",
    "#filename = 'CE4_GRAS_PCAML-C-002_SCI_N_20190708043636_20190708043636_0048_B'\n",
    "\n",
    "img = {}\n",
    "img['pds_data'] = read_pds(dir + '/' + filename + '.2BL')"
   ]
  },
  {
   "cell_type": "code",
   "execution_count": null,
   "metadata": {},
   "outputs": [],
   "source": [
    "# 数据文件信息\n",
    "img['pds_data'].label.to_dict()['Product_Observational']['Identification_Area']"
   ]
  },
  {
   "cell_type": "code",
   "execution_count": null,
   "metadata": {},
   "outputs": [],
   "source": [
    "img['pds_data'].label.to_dict()['Product_Observational']['Reference_List']"
   ]
  },
  {
   "cell_type": "code",
   "execution_count": 22,
   "metadata": {},
   "outputs": [
    {
     "output_type": "execute_result",
     "data": {
      "text/plain": [
       "OrderedDict([('Time_Coordinates',\n",
       "              OrderedDict([('start_date_time', '2019-07-08T04:33:58.347Z'),\n",
       "                           ('stop_date_time', '2019-07-08T04:33:58.347Z')])),\n",
       "             ('Primary_Result_Summary',\n",
       "              OrderedDict([('purpose', 'Science'),\n",
       "                           ('processing_level', 'Calibrated'),\n",
       "                           ('Science_Facets',\n",
       "                            OrderedDict([('wavelength_range', 'Visible'),\n",
       "                                         ('domain', 'Surface')]))])),\n",
       "             ('Investigation_Area',\n",
       "              OrderedDict([('name', 'CE4'), ('type', 'Mission')])),\n",
       "             ('Observing_System',\n",
       "              OrderedDict([('name', 'Observing System for CE4Ro'),\n",
       "                           ('Observing_System_Component',\n",
       "                            OrderedDict([('name', 'CE4Ro'),\n",
       "                                         ('type', 'Spacecraft'),\n",
       "                                         ('description', None)]))])),\n",
       "             ('Target_Identification',\n",
       "              OrderedDict([('name', 'Lunar'), ('type', 'Satellite')])),\n",
       "             ('Mission_Area',\n",
       "              OrderedDict([('product_id',\n",
       "                            'CE4_GRAS_PCAML-C-000_SCI_N_20190708043358_20190708043358_0048_B.2B'),\n",
       "                           ('product_version', 'B'),\n",
       "                           ('product_level', '2B'),\n",
       "                           ('instrument_name', 'Panoramic Camera'),\n",
       "                           ('instrument_id', 'PCAM'),\n",
       "                           ('sequence_id', '0048'),\n",
       "                           ('Work_Mode_Parm',\n",
       "                            OrderedDict([('work_mode', 'COLOR'),\n",
       "                                         ('exposure_mode', 'AUTOMATIC'),\n",
       "                                         ('automatic_exposure_mean_gray',\n",
       "                                          '400'),\n",
       "                                         ('exposure_gear', '43'),\n",
       "                                         ('exposure_time', '22.0'),\n",
       "                                         ('gain', '1')])),\n",
       "                           ('Instrument_Parm',\n",
       "                            OrderedDict([('bands', 'visible spectrum'),\n",
       "                                         ('focal_length', '50.290000'),\n",
       "                                         ('pixel_size', '7.4'),\n",
       "                                         ('principle_point_coordinate',\n",
       "                                          OrderedDict([('x0', '0.024513'),\n",
       "                                                       ('y0',\n",
       "                                                        '0.008961')]))])),\n",
       "                           ('Processing_Parm',\n",
       "                            OrderedDict([('acali', '0.085770'),\n",
       "                                         ('settingexposure_time', '256.5'),\n",
       "                                         ('description',\n",
       "                                          'ACali = GAIN*EXPOSURE_TIME/SETTINGEXPOSURE_TIME')])),\n",
       "                           ('Rover_Location',\n",
       "                            OrderedDict([('reference_frame',\n",
       "                                          'MOON_COORDINATE_SYSTEM'),\n",
       "                                         ('longitude', '177.591486'),\n",
       "                                         ('latitude', '-45.443507')])),\n",
       "                           ('Lander_Location',\n",
       "                            OrderedDict([('reference_frame',\n",
       "                                          'MOON_COORDINATE_SYSTEM'),\n",
       "                                         ('longitude', '177.599100'),\n",
       "                                         ('latitude', '-45.444600')])),\n",
       "                           ('Vector_Cartesian_3_Pointing',\n",
       "                            OrderedDict([('reference_frame',\n",
       "                                          'ROVER_COORDINATE_SYSTEM'),\n",
       "                                         ('up_left_point_observe_vector',\n",
       "                                          OrderedDict([('x', '0.901994'),\n",
       "                                                       ('y', '0.429936'),\n",
       "                                                       ('z', '0.039526')])),\n",
       "                                         ('down_left_point_observe_vector',\n",
       "                                          OrderedDict([('x', '0.886615'),\n",
       "                                                       ('y', '0.413161'),\n",
       "                                                       ('z', '-0.207877')])),\n",
       "                                         ('up_right_point_observe_vector',\n",
       "                                          OrderedDict([('x', '0.992944'),\n",
       "                                                       ('y', '0.104558'),\n",
       "                                                       ('z', '0.055938')])),\n",
       "                                         ('down_right_point_observe_vector',\n",
       "                                          OrderedDict([('x', '0.977558'),\n",
       "                                                       ('y', '0.087800'),\n",
       "                                                       ('z', '-0.191500')])),\n",
       "                                         ('center_point_observe_vector',\n",
       "                                          OrderedDict([('x', '0.961160'),\n",
       "                                                       ('y', '0.264845'),\n",
       "                                                       ('z',\n",
       "                                                        '-0.077643')]))])),\n",
       "                           ('Rover_LocationXYZ',\n",
       "                            OrderedDict([('reference_frame',\n",
       "                                          'LANDER_COORDINATE_SYSTEM'),\n",
       "                                         ('x', '-161.436147'),\n",
       "                                         ('y', '33.022538'),\n",
       "                                         ('z', '-1.172553')])),\n",
       "                           ('Exterior_Orientation_Elements',\n",
       "                            OrderedDict([('reference_frame_id',\n",
       "                                          'MOON_COORDINATE_SYSTEM'),\n",
       "                                         ('camera_center_position_x',\n",
       "                                          '0.152220'),\n",
       "                                         ('camera_center_position_y',\n",
       "                                          '-0.170515'),\n",
       "                                         ('camera_center_position_z',\n",
       "                                          '1.311934'),\n",
       "                                         ('camera_rotation_angle_roll',\n",
       "                                          '15.330621'),\n",
       "                                         ('camera_rotation_angle_pitch',\n",
       "                                          '85.394220'),\n",
       "                                         ('camera_rotation_angle_yaw',\n",
       "                                          '-85.991449')])),\n",
       "                           ('Rotation_Angle',\n",
       "                            OrderedDict([('pitch', '-5.911011'),\n",
       "                                         ('yawing', '89.873650'),\n",
       "                                         ('description',\n",
       "                                          'Mast_Pointing_Instrument')])),\n",
       "                           ('Angle_Pointing_Results',\n",
       "                            OrderedDict([('solar_incidence_angle',\n",
       "                                          '74.414026'),\n",
       "                                         ('solar_azimuth_angle',\n",
       "                                          '286.372990')]))]))])"
      ]
     },
     "metadata": {},
     "execution_count": 22
    }
   ],
   "source": [
    "# 拍照时信息，包括设备参数\n",
    "img['pds_data'].label.to_dict()['Product_Observational']['Observation_Area']"
   ]
  },
  {
   "cell_type": "code",
   "execution_count": null,
   "metadata": {},
   "outputs": [],
   "source": [
    "img['pds_data'].label.to_dict()['Product_Observational']['File_Area_Observational']"
   ]
  },
  {
   "cell_type": "code",
   "execution_count": 28,
   "metadata": {},
   "outputs": [
    {
     "output_type": "stream",
     "name": "stdout",
     "text": [
      "OrderedDict([('reference_frame', 'MOON_COORDINATE_SYSTEM'), ('longitude', '177.591486'), ('latitude', '-45.443507')])\nOrderedDict([('reference_frame', 'MOON_COORDINATE_SYSTEM'), ('longitude', '177.599100'), ('latitude', '-45.444600')])\nOrderedDict([('reference_frame', 'LANDER_COORDINATE_SYSTEM'), ('x', '-161.436147'), ('y', '33.022538'), ('z', '-1.172553')])\nOrderedDict([('reference_frame_id', 'MOON_COORDINATE_SYSTEM'), ('camera_center_position_x', '0.152220'), ('camera_center_position_y', '-0.170515'), ('camera_center_position_z', '1.311934'), ('camera_rotation_angle_roll', '15.330621'), ('camera_rotation_angle_pitch', '85.394220'), ('camera_rotation_angle_yaw', '-85.991449')])\n"
     ]
    }
   ],
   "source": [
    "def get_pds_info():\n",
    "    \n",
    "print(img['pds_data'].label.to_dict()['Product_Observational']['Observation_Area']['Mission_Area']['Rover_Location'])\n",
    "print(img['pds_data'].label.to_dict()['Product_Observational']['Observation_Area']['Mission_Area']['Lander_Location'])\n",
    "print(img['pds_data'].label.to_dict()['Product_Observational']['Observation_Area']['Mission_Area']['Rover_LocationXYZ'])\n",
    "print(img['pds_data'].label.to_dict()['Product_Observational']['Observation_Area']['Mission_Area']['Exterior_Orientation_Elements'])"
   ]
  },
  {
   "cell_type": "code",
   "execution_count": null,
   "metadata": {},
   "outputs": [],
   "source": []
  }
 ]
}